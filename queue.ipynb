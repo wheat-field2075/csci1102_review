{
 "cells": [
  {
   "cell_type": "markdown",
   "id": "0dcd2cab-23bb-494a-84da-03c3050cf634",
   "metadata": {},
   "source": [
    "Queue: a simple FIFO data container\n",
    "\n",
    "methods defined:\n",
    " - __init__(self): initialize head and tail\n",
    " - __repr__(self): return a string that contains all nodes of the stack, or an empty string if no nodes exist\n",
    " - __len__(self): returns the length of the stack\n",
    " - enqueue(self, Node n): place n at the end of the queue\n",
    " - dequeue(self): remove and return the front element of the queue\n",
    " - isEmpty(self): return True if there are no elements in the queue, and false otherwise"
   ]
  },
  {
   "cell_type": "code",
   "execution_count": 1,
   "id": "7eaa7164-6e86-41e2-a8bd-996a95594808",
   "metadata": {},
   "outputs": [],
   "source": [
    "from node import Node"
   ]
  },
  {
   "cell_type": "code",
   "execution_count": null,
   "id": "2afa1f83-30f4-44f4-9841-6048f7d16feb",
   "metadata": {},
   "outputs": [],
   "source": [
    "class QueueEmptyException(Exception):\n",
    "    def __init__(self):\n",
    "        self.message = \"Queue is empty!\"\n",
    "        super().__init__(self.message)"
   ]
  },
  {
   "cell_type": "code",
   "execution_count": 4,
   "id": "bb4b3065-60e4-4515-be6e-f4904fc860f2",
   "metadata": {},
   "outputs": [],
   "source": [
    "class Queue():\n",
    "    def __init__(self):\n",
    "        self.head = None\n",
    "        self.tail = None\n",
    "    \n",
    "    def __repr__(self):\n",
    "        if(self.length == 0):\n",
    "            return \"\"\n",
    "        temp = \"\"\n",
    "        current = self.head\n",
    "        while(current != self.tail):\n",
    "            temp += str(current) + \", \"\n",
    "            current = current.child\n",
    "        temp += str(current)\n",
    "        return temp\n",
    "    \n",
    "    def __len__(self):\n",
    "        if(self.head == None):\n",
    "            return 0\n",
    "        counter = 0\n",
    "        current = self.head\n",
    "        while(current != self.tail):\n",
    "            counter += 1\n",
    "            current = current.child\n",
    "        return counter\n",
    "    \n",
    "    def enqueue(self, n):\n",
    "        if(self.head == None):\n",
    "            self.head = n\n",
    "            self.tail = n\n",
    "        else:\n",
    "            self.tail.child = n\n",
    "            self.tail = n\n",
    "    \n",
    "    def dequeue(self):\n",
    "        if(self.head == None):\n",
    "            raise QueueEmptyException\n",
    "        temp = self.head\n",
    "        self.head = self.head.child\n",
    "        return temp\n",
    "        \n",
    "    def isEmpty(self):\n",
    "        return (self.head == None)"
   ]
  },
  {
   "cell_type": "code",
   "execution_count": 12,
   "id": "b589a7ae-ed04-4dae-ae79-2e28272208bb",
   "metadata": {},
   "outputs": [],
   "source": [
    "q = Queue()\n",
    "q.enqueue(Node(4))\n",
    "q.enqueue(Node(67))"
   ]
  },
  {
   "cell_type": "code",
   "execution_count": 7,
   "id": "317dee64-a142-4d86-a249-ee284f9ff5dd",
   "metadata": {},
   "outputs": [],
   "source": [
    "q.de"
   ]
  },
  {
   "cell_type": "code",
   "execution_count": null,
   "id": "3474196c-1b4b-4e54-bd28-e2659399605b",
   "metadata": {},
   "outputs": [],
   "source": []
  }
 ],
 "metadata": {
  "kernelspec": {
   "display_name": "Python 3 (ipykernel)",
   "language": "python",
   "name": "python3"
  },
  "language_info": {
   "codemirror_mode": {
    "name": "ipython",
    "version": 3
   },
   "file_extension": ".py",
   "mimetype": "text/x-python",
   "name": "python",
   "nbconvert_exporter": "python",
   "pygments_lexer": "ipython3",
   "version": "3.9.12"
  }
 },
 "nbformat": 4,
 "nbformat_minor": 5
}
