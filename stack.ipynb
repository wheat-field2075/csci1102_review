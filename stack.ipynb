{
 "cells": [
  {
   "cell_type": "raw",
   "id": "f3da3e11-ba7b-43f9-b984-5bed11d3904a",
   "metadata": {},
   "source": [
    "Stack: a simple LIFO data container\n",
    "\n",
    "methods defined:\n",
    " - __init__(self): initialize head and length\n",
    " - __repr__(self): return a string that contains all nodes of the stack, or an empty string if no nodes exist\n",
    " - __len__(self): returns the length of the stack\n",
    " - push(self, Node n): place n at the end of the stack\n",
    " - pop(self): remove and return the first element of the stack\n",
    " - peek(self): return the first element of the stack (w/o removal)\n",
    " - isEmpty(self): return True if there are no element in the stack, and false otherwise"
   ]
  },
  {
   "cell_type": "code",
   "execution_count": 1,
   "id": "8621a83b-7588-47c2-a7eb-94656bc806ba",
   "metadata": {},
   "outputs": [],
   "source": [
    "from node import Node"
   ]
  },
  {
   "cell_type": "code",
   "execution_count": 2,
   "id": "6cc5f513-b25f-4e5e-8576-89f125e74409",
   "metadata": {},
   "outputs": [],
   "source": [
    "class StackEmptyException(Exception):\n",
    "    def __init__(self):\n",
    "        self.message = \"Stack is empty!\"\n",
    "        super().__init__(self.message)"
   ]
  },
  {
   "cell_type": "code",
   "execution_count": 3,
   "id": "639f9c66-c844-4c00-b780-7c02ef6a288a",
   "metadata": {},
   "outputs": [],
   "source": [
    "class Stack:\n",
    "    def __init__(self):\n",
    "        self.head = None\n",
    "    \n",
    "    def __repr__(self):\n",
    "        if self.isEmpty():\n",
    "            return \"\"\n",
    "        else:\n",
    "            current = self.head\n",
    "            temp = \"\"\n",
    "            while (current.child != None):\n",
    "                temp += str(current.value) + \", \"\n",
    "                current = current.child\n",
    "            temp += str(current.value)\n",
    "            return temp\n",
    "        \n",
    "    def __len__(self):\n",
    "        counter = 0\n",
    "        current = self.head\n",
    "        while (current != None):\n",
    "            counter += 1\n",
    "            current = current.child\n",
    "    \n",
    "    def push(self, n):\n",
    "        if (self.head == None):\n",
    "            self.head = n\n",
    "        else:\n",
    "            current = self.head\n",
    "            while (current.child != None):\n",
    "                current = current.child\n",
    "            current.child = n\n",
    "            \n",
    "    def pop(self):\n",
    "        if self.isEmpty():\n",
    "            raise StackEmptyException\n",
    "        temp = self.head\n",
    "        self.head = self.head.child\n",
    "        return temp\n",
    "    \n",
    "    def peek(self):\n",
    "        if self.isEmpty():\n",
    "            raise StackEmptyException\n",
    "        return self.head\n",
    "    \n",
    "    def isEmpty(self):\n",
    "        return (self.head == None)"
   ]
  },
  {
   "cell_type": "code",
   "execution_count": 4,
   "id": "3445a770-de2b-48b7-9f75-f2143bce7ef9",
   "metadata": {},
   "outputs": [
    {
     "name": "stdout",
     "output_type": "stream",
     "text": [
      "0, 1, 2, 3, 4, 5, 6, 7, 8, 9\n",
      "0\n",
      "1\n",
      "2\n",
      "3\n",
      "4\n",
      "5\n",
      "6\n",
      "7\n",
      "8\n",
      "9\n",
      "\n"
     ]
    }
   ],
   "source": [
    "s = Stack()\n",
    "\n",
    "for n in range(10):\n",
    "    s.push(Node(n))\n",
    "    \n",
    "print(s)\n",
    "    \n",
    "while(not s.isEmpty()):\n",
    "    print(s.pop())\n",
    "    \n",
    "print(s)"
   ]
  }
 ],
 "metadata": {
  "kernelspec": {
   "display_name": "Python 3 (ipykernel)",
   "language": "python",
   "name": "python3"
  },
  "language_info": {
   "codemirror_mode": {
    "name": "ipython",
    "version": 3
   },
   "file_extension": ".py",
   "mimetype": "text/x-python",
   "name": "python",
   "nbconvert_exporter": "python",
   "pygments_lexer": "ipython3",
   "version": "3.9.12"
  }
 },
 "nbformat": 4,
 "nbformat_minor": 5
}
